{
 "nbformat": 4,
 "nbformat_minor": 2,
 "metadata": {
  "language_info": {
   "name": "python",
   "codemirror_mode": {
    "name": "ipython",
    "version": 3
   },
   "version": "3.7.6-final"
  },
  "orig_nbformat": 2,
  "file_extension": ".py",
  "mimetype": "text/x-python",
  "name": "python",
  "npconvert_exporter": "python",
  "pygments_lexer": "ipython3",
  "version": 3,
  "kernelspec": {
   "name": "python37464bitbaseconda006d686a86d74f28a66428bdb13d8f05",
   "display_name": "Python 3.7.4 64-bit ('base': conda)"
  }
 },
 "cells": [
  {
   "cell_type": "code",
   "execution_count": 1,
   "metadata": {},
   "outputs": [],
   "source": [
    "import pandas as pd\n",
    "import numpy as np\n",
    "from datetime import datetime\n",
    "import calendar\n",
    "\n",
    "from sklearn.preprocessing import StandardScaler, PowerTransformer\n",
    "from sklearn.metrics import classification_report, roc_auc_score, roc_curve"
   ]
  },
  {
   "cell_type": "code",
   "execution_count": 2,
   "metadata": {},
   "outputs": [],
   "source": [
    "train = pd.read_csv(r\"train_8wry4cB.csv\")"
   ]
  },
  {
   "cell_type": "code",
   "execution_count": 3,
   "metadata": {},
   "outputs": [
    {
     "output_type": "execute_result",
     "data": {
      "text/plain": "  session_id       startTime         endTime  \\\n0     u16159  15/12/14 18:11  15/12/14 18:12   \n1     u10253  16/12/14 14:35  16/12/14 14:41   \n2     u19037  01/12/14 15:58  01/12/14 15:58   \n3     u14556   23/11/14 2:57   23/11/14 3:00   \n4     u24295  17/12/14 16:44  17/12/14 16:46   \n\n                                         ProductList  gender  \n0  A00002/B00003/C00006/D28435/;A00002/B00003/C00...  female  \n1  A00001/B00009/C00031/D29404/;A00001/B00009/C00...    male  \n2                       A00002/B00001/C00020/D16944/  female  \n3  A00002/B00004/C00018/D10284/;A00002/B00004/C00...  female  \n4  A00001/B00001/C00012/D30805/;A00001/B00001/C00...    male  ",
      "text/html": "<div>\n<style scoped>\n    .dataframe tbody tr th:only-of-type {\n        vertical-align: middle;\n    }\n\n    .dataframe tbody tr th {\n        vertical-align: top;\n    }\n\n    .dataframe thead th {\n        text-align: right;\n    }\n</style>\n<table border=\"1\" class=\"dataframe\">\n  <thead>\n    <tr style=\"text-align: right;\">\n      <th></th>\n      <th>session_id</th>\n      <th>startTime</th>\n      <th>endTime</th>\n      <th>ProductList</th>\n      <th>gender</th>\n    </tr>\n  </thead>\n  <tbody>\n    <tr>\n      <th>0</th>\n      <td>u16159</td>\n      <td>15/12/14 18:11</td>\n      <td>15/12/14 18:12</td>\n      <td>A00002/B00003/C00006/D28435/;A00002/B00003/C00...</td>\n      <td>female</td>\n    </tr>\n    <tr>\n      <th>1</th>\n      <td>u10253</td>\n      <td>16/12/14 14:35</td>\n      <td>16/12/14 14:41</td>\n      <td>A00001/B00009/C00031/D29404/;A00001/B00009/C00...</td>\n      <td>male</td>\n    </tr>\n    <tr>\n      <th>2</th>\n      <td>u19037</td>\n      <td>01/12/14 15:58</td>\n      <td>01/12/14 15:58</td>\n      <td>A00002/B00001/C00020/D16944/</td>\n      <td>female</td>\n    </tr>\n    <tr>\n      <th>3</th>\n      <td>u14556</td>\n      <td>23/11/14 2:57</td>\n      <td>23/11/14 3:00</td>\n      <td>A00002/B00004/C00018/D10284/;A00002/B00004/C00...</td>\n      <td>female</td>\n    </tr>\n    <tr>\n      <th>4</th>\n      <td>u24295</td>\n      <td>17/12/14 16:44</td>\n      <td>17/12/14 16:46</td>\n      <td>A00001/B00001/C00012/D30805/;A00001/B00001/C00...</td>\n      <td>male</td>\n    </tr>\n  </tbody>\n</table>\n</div>"
     },
     "metadata": {},
     "execution_count": 3
    }
   ],
   "source": [
    "train.head()"
   ]
  },
  {
   "cell_type": "code",
   "execution_count": 4,
   "metadata": {},
   "outputs": [
    {
     "output_type": "execute_result",
     "data": {
      "text/plain": "session_id     object\nstartTime      object\nendTime        object\nProductList    object\ngender         object\ndtype: object"
     },
     "metadata": {},
     "execution_count": 4
    }
   ],
   "source": [
    "train.dtypes"
   ]
  },
  {
   "cell_type": "code",
   "execution_count": 5,
   "metadata": {},
   "outputs": [],
   "source": [
    "ids = train['session_id']\n",
    "del train['session_id']\n",
    "targets = train['gender']"
   ]
  },
  {
   "cell_type": "code",
   "execution_count": 6,
   "metadata": {},
   "outputs": [],
   "source": [
    "def sess_time(obj1, obj2): #Session time hoping that no one browses more than 24 hrs :)\n",
    "\n",
    "  time1 = datetime.strptime(str(obj1), '%d/%m/%y %H:%M')\n",
    "  time2 = datetime.strptime(str(obj2), '%d/%m/%y %H:%M')\n",
    "\n",
    "  if time1.hour == 23 and time2.hour != 23:\n",
    "    return abs(time2.hour*60 + (60-time1.minute+time2.minute))\n",
    "  else:\n",
    "    return abs((time1.hour-time2.hour)*60 + (time1.minute-time2.minute))    "
   ]
  },
  {
   "cell_type": "code",
   "execution_count": 7,
   "metadata": {},
   "outputs": [],
   "source": [
    "#Feature Engineering on Date-Time objects\n",
    "# month, day and time added as features along with session time\n",
    "\n",
    "time_diff = []\n",
    "months = []\n",
    "time_of_day = []\n",
    "days = []\n",
    "weekdays = []\n",
    "for index in range(len(train)):  \n",
    "  \n",
    "  time_start = datetime.strptime(str(train['startTime'][index]), '%d/%m/%y %H:%M')\n",
    "  time_end   = datetime.strptime(str(train['endTime'][index]), '%d/%m/%y %H:%M')\n",
    "\n",
    "  time_diff.append(sess_time(train['startTime'][index],train['endTime'][index]))\n",
    "  months.append(time_start.month)\n",
    "  time_of_day.append((time_start.hour+time_end.hour)/2)\n",
    "  days.append(time_start.day)\n",
    "  weekdays.append(calendar.day_name[time_start.weekday()])"
   ]
  },
  {
   "cell_type": "code",
   "execution_count": 8,
   "metadata": {},
   "outputs": [],
   "source": [
    "# Adding new columns to the dataset after feature engineering\n",
    "train['session_time'] = time_diff\n",
    "train['month'] = months\n",
    "train['time_of_day'] = time_of_day\n",
    "train['day'] = days\n",
    "train['weekday'] = weekdays"
   ]
  },
  {
   "cell_type": "code",
   "execution_count": 9,
   "metadata": {},
   "outputs": [],
   "source": [
    "# Removing original columns from dataset\n",
    "train.drop(columns=['startTime','endTime'],inplace=True)"
   ]
  },
  {
   "cell_type": "code",
   "execution_count": 10,
   "metadata": {},
   "outputs": [
    {
     "output_type": "stream",
     "name": "stdout",
     "text": "36\n"
    }
   ],
   "source": [
    "num_pdts = [] # List of number of products searched in a session\n",
    "products = []\n",
    "\n",
    "for index in range(len(train)):\n",
    "    s = str(train['ProductList'][index])\n",
    "    lst = s.split(';')\n",
    "    num_pdts.append(len(lst))\n",
    "    products.append(lst)\n",
    "    \n",
    "print(max(num_pdts))   # 36 is the maximum total number of products searched by a person\n",
    ""
   ]
  },
  {
   "cell_type": "code",
   "execution_count": 11,
   "metadata": {},
   "outputs": [
    {
     "output_type": "stream",
     "name": "stdout",
     "text": "23251 23251\n"
    }
   ],
   "source": [
    "all_pdts = [y for x in products for y in x]\n",
    "unique_pdts = []\n",
    "unique_pdts = [x for x in all_pdts if x not in unique_pdts]\n",
    "print(len(all_pdts),len(unique_pdts))\n",
    "# Since we can see that all products are seemingly unique we cant distinguish between them"
   ]
  },
  {
   "cell_type": "code",
   "execution_count": 84,
   "metadata": {},
   "outputs": [],
   "source": [
    "cat_A = []\n",
    "cat_B = []\n",
    "cat_C = []\n",
    "cat_D = []\n",
    "\n",
    "for index in range(len(products)):\n",
    "    temp_A = []\n",
    "    temp_B = []\n",
    "    temp_C = []\n",
    "    temp_D = []\n",
    "    for lst in products[index]:\n",
    "        x = lst.split('/')\n",
    "        temp_A.append(x[0])\n",
    "        temp_B.append(x[1])\n",
    "        temp_C.append(x[2])\n",
    "        temp_D.append(x[3])\n",
    "\n",
    "    cat_A.append(temp_A)\n",
    "    cat_B.append(temp_B)\n",
    "    cat_C.append(temp_C)\n",
    "    cat_D.append(temp_D)\n",
    "        "
   ]
  },
  {
   "cell_type": "code",
   "execution_count": 85,
   "metadata": {},
   "outputs": [],
   "source": [
    "def padlist(lst,pad_index): \n",
    "    # Pads the list at the end it helps us to get required length pf variables later\n",
    "    while len(lst) != pad_index:\n",
    "        lst.append('0')\n",
    "\n",
    "def mkUniq(lst,desired_length): # make all the lists unique\n",
    "    out_list = []\n",
    "    for index, x in enumerate(lst):\n",
    "        list_set = set(x) \n",
    "        unique_list = (list(list_set)) \n",
    "        padlist(unique_list,desired_length)        \n",
    "        out_list.append(np.array(unique_list).astype('object'))\n",
    "    return np.array(out_list)\n",
    "\n",
    "def most_common(lst,n): # Returns first n elements from the list with most common occurence\n",
    "\n",
    "def maxlen(lst): # gives out maximum length of sublist\n",
    "    max = 0\n",
    "    for x in lst:\n",
    "        if len(x) > max:\n",
    "            max = len(x)\n",
    "    return max"
   ]
  },
  {
   "cell_type": "code",
   "execution_count": 86,
   "metadata": {},
   "outputs": [],
   "source": [
    "# 3 6 13 36\n",
    "cat_A = mkUniq(cat_A,3)     \n",
    "cat_B = mkUniq(cat_B,6)\n",
    "cat_C = mkUniq(cat_C,13)\n",
    "cat_D = mkUniq(cat_D,36)"
   ]
  },
  {
   "cell_type": "code",
   "execution_count": 87,
   "metadata": {
    "tags": [
     "outputPrepend"
    ]
   },
   "outputs": [],
   "source": [
    "# Check maximum number of unique elements in a category\n",
    "#print(maxlen(cat_A),maxlen(cat_B),maxlen(cat_C),maxlen(cat_D))\n",
    "# Output was 3 6 13 36 for A, B, C, D respectively"
   ]
  },
  {
   "cell_type": "code",
   "execution_count": 88,
   "metadata": {},
   "outputs": [],
   "source": [
    "# Convert the above arrays as dataframesto add them as variables\n",
    "def create_list(letter,length):\n",
    "    lst = []\n",
    "    for i in range(length):\n",
    "        str = letter+'{:2d}'.format(i)\n",
    "        lst.append(str)\n",
    "    return lst\n",
    "\n",
    "cols_A = create_list('A',3)\n",
    "cat_A = pd.DataFrame(cat_A,columns=cols_A)    \n",
    "\n",
    "cols_B = create_list('B',6)\n",
    "cat_B = pd.DataFrame(cat_B,columns=cols_B)     \n",
    "\n",
    "cols_C = create_list('C',13)\n",
    "cat_C = pd.DataFrame(cat_C,columns=cols_C)     \n",
    "\n",
    "cols_D = create_list('D',36)\n",
    "cat_D = pd.DataFrame(cat_D,columns=cols_D)"
   ]
  },
  {
   "cell_type": "code",
   "execution_count": 89,
   "metadata": {},
   "outputs": [
    {
     "output_type": "execute_result",
     "data": {
      "text/plain": "          D 0     D 1     D 2     D 3     D 4     D 5     D 6 D 7 D 8 D 9  \\\n0      D28435  D02554  D28436  D28437       0       0       0   0   0   0   \n1      D29407  D25444  D29404  D02617  D29411  D29418  D29410   0   0   0   \n2      D16944       0       0       0       0       0       0   0   0   0   \n3      D10284  D10285  D10286       0       0       0       0   0   0   0   \n4      D30805  D30806       0       0       0       0       0   0   0   0   \n...       ...     ...     ...     ...     ...     ...     ...  ..  ..  ..   \n10495  D06407  D06409       0       0       0       0       0   0   0   0   \n10496  D11660       0       0       0       0       0       0   0   0   0   \n10497  D18028       0       0       0       0       0       0   0   0   0   \n10498  D09454  D09453       0       0       0       0       0   0   0   0   \n10499  D21254  D02309  D18619  D32450       0       0       0   0   0   0   \n\n       ... D26 D27 D28 D29 D30 D31 D32 D33 D34 D35  \n0      ...   0   0   0   0   0   0   0   0   0   0  \n1      ...   0   0   0   0   0   0   0   0   0   0  \n2      ...   0   0   0   0   0   0   0   0   0   0  \n3      ...   0   0   0   0   0   0   0   0   0   0  \n4      ...   0   0   0   0   0   0   0   0   0   0  \n...    ...  ..  ..  ..  ..  ..  ..  ..  ..  ..  ..  \n10495  ...   0   0   0   0   0   0   0   0   0   0  \n10496  ...   0   0   0   0   0   0   0   0   0   0  \n10497  ...   0   0   0   0   0   0   0   0   0   0  \n10498  ...   0   0   0   0   0   0   0   0   0   0  \n10499  ...   0   0   0   0   0   0   0   0   0   0  \n\n[10500 rows x 36 columns]",
      "text/html": "<div>\n<style scoped>\n    .dataframe tbody tr th:only-of-type {\n        vertical-align: middle;\n    }\n\n    .dataframe tbody tr th {\n        vertical-align: top;\n    }\n\n    .dataframe thead th {\n        text-align: right;\n    }\n</style>\n<table border=\"1\" class=\"dataframe\">\n  <thead>\n    <tr style=\"text-align: right;\">\n      <th></th>\n      <th>D 0</th>\n      <th>D 1</th>\n      <th>D 2</th>\n      <th>D 3</th>\n      <th>D 4</th>\n      <th>D 5</th>\n      <th>D 6</th>\n      <th>D 7</th>\n      <th>D 8</th>\n      <th>D 9</th>\n      <th>...</th>\n      <th>D26</th>\n      <th>D27</th>\n      <th>D28</th>\n      <th>D29</th>\n      <th>D30</th>\n      <th>D31</th>\n      <th>D32</th>\n      <th>D33</th>\n      <th>D34</th>\n      <th>D35</th>\n    </tr>\n  </thead>\n  <tbody>\n    <tr>\n      <th>0</th>\n      <td>D28435</td>\n      <td>D02554</td>\n      <td>D28436</td>\n      <td>D28437</td>\n      <td>0</td>\n      <td>0</td>\n      <td>0</td>\n      <td>0</td>\n      <td>0</td>\n      <td>0</td>\n      <td>...</td>\n      <td>0</td>\n      <td>0</td>\n      <td>0</td>\n      <td>0</td>\n      <td>0</td>\n      <td>0</td>\n      <td>0</td>\n      <td>0</td>\n      <td>0</td>\n      <td>0</td>\n    </tr>\n    <tr>\n      <th>1</th>\n      <td>D29407</td>\n      <td>D25444</td>\n      <td>D29404</td>\n      <td>D02617</td>\n      <td>D29411</td>\n      <td>D29418</td>\n      <td>D29410</td>\n      <td>0</td>\n      <td>0</td>\n      <td>0</td>\n      <td>...</td>\n      <td>0</td>\n      <td>0</td>\n      <td>0</td>\n      <td>0</td>\n      <td>0</td>\n      <td>0</td>\n      <td>0</td>\n      <td>0</td>\n      <td>0</td>\n      <td>0</td>\n    </tr>\n    <tr>\n      <th>2</th>\n      <td>D16944</td>\n      <td>0</td>\n      <td>0</td>\n      <td>0</td>\n      <td>0</td>\n      <td>0</td>\n      <td>0</td>\n      <td>0</td>\n      <td>0</td>\n      <td>0</td>\n      <td>...</td>\n      <td>0</td>\n      <td>0</td>\n      <td>0</td>\n      <td>0</td>\n      <td>0</td>\n      <td>0</td>\n      <td>0</td>\n      <td>0</td>\n      <td>0</td>\n      <td>0</td>\n    </tr>\n    <tr>\n      <th>3</th>\n      <td>D10284</td>\n      <td>D10285</td>\n      <td>D10286</td>\n      <td>0</td>\n      <td>0</td>\n      <td>0</td>\n      <td>0</td>\n      <td>0</td>\n      <td>0</td>\n      <td>0</td>\n      <td>...</td>\n      <td>0</td>\n      <td>0</td>\n      <td>0</td>\n      <td>0</td>\n      <td>0</td>\n      <td>0</td>\n      <td>0</td>\n      <td>0</td>\n      <td>0</td>\n      <td>0</td>\n    </tr>\n    <tr>\n      <th>4</th>\n      <td>D30805</td>\n      <td>D30806</td>\n      <td>0</td>\n      <td>0</td>\n      <td>0</td>\n      <td>0</td>\n      <td>0</td>\n      <td>0</td>\n      <td>0</td>\n      <td>0</td>\n      <td>...</td>\n      <td>0</td>\n      <td>0</td>\n      <td>0</td>\n      <td>0</td>\n      <td>0</td>\n      <td>0</td>\n      <td>0</td>\n      <td>0</td>\n      <td>0</td>\n      <td>0</td>\n    </tr>\n    <tr>\n      <th>...</th>\n      <td>...</td>\n      <td>...</td>\n      <td>...</td>\n      <td>...</td>\n      <td>...</td>\n      <td>...</td>\n      <td>...</td>\n      <td>...</td>\n      <td>...</td>\n      <td>...</td>\n      <td>...</td>\n      <td>...</td>\n      <td>...</td>\n      <td>...</td>\n      <td>...</td>\n      <td>...</td>\n      <td>...</td>\n      <td>...</td>\n      <td>...</td>\n      <td>...</td>\n      <td>...</td>\n    </tr>\n    <tr>\n      <th>10495</th>\n      <td>D06407</td>\n      <td>D06409</td>\n      <td>0</td>\n      <td>0</td>\n      <td>0</td>\n      <td>0</td>\n      <td>0</td>\n      <td>0</td>\n      <td>0</td>\n      <td>0</td>\n      <td>...</td>\n      <td>0</td>\n      <td>0</td>\n      <td>0</td>\n      <td>0</td>\n      <td>0</td>\n      <td>0</td>\n      <td>0</td>\n      <td>0</td>\n      <td>0</td>\n      <td>0</td>\n    </tr>\n    <tr>\n      <th>10496</th>\n      <td>D11660</td>\n      <td>0</td>\n      <td>0</td>\n      <td>0</td>\n      <td>0</td>\n      <td>0</td>\n      <td>0</td>\n      <td>0</td>\n      <td>0</td>\n      <td>0</td>\n      <td>...</td>\n      <td>0</td>\n      <td>0</td>\n      <td>0</td>\n      <td>0</td>\n      <td>0</td>\n      <td>0</td>\n      <td>0</td>\n      <td>0</td>\n      <td>0</td>\n      <td>0</td>\n    </tr>\n    <tr>\n      <th>10497</th>\n      <td>D18028</td>\n      <td>0</td>\n      <td>0</td>\n      <td>0</td>\n      <td>0</td>\n      <td>0</td>\n      <td>0</td>\n      <td>0</td>\n      <td>0</td>\n      <td>0</td>\n      <td>...</td>\n      <td>0</td>\n      <td>0</td>\n      <td>0</td>\n      <td>0</td>\n      <td>0</td>\n      <td>0</td>\n      <td>0</td>\n      <td>0</td>\n      <td>0</td>\n      <td>0</td>\n    </tr>\n    <tr>\n      <th>10498</th>\n      <td>D09454</td>\n      <td>D09453</td>\n      <td>0</td>\n      <td>0</td>\n      <td>0</td>\n      <td>0</td>\n      <td>0</td>\n      <td>0</td>\n      <td>0</td>\n      <td>0</td>\n      <td>...</td>\n      <td>0</td>\n      <td>0</td>\n      <td>0</td>\n      <td>0</td>\n      <td>0</td>\n      <td>0</td>\n      <td>0</td>\n      <td>0</td>\n      <td>0</td>\n      <td>0</td>\n    </tr>\n    <tr>\n      <th>10499</th>\n      <td>D21254</td>\n      <td>D02309</td>\n      <td>D18619</td>\n      <td>D32450</td>\n      <td>0</td>\n      <td>0</td>\n      <td>0</td>\n      <td>0</td>\n      <td>0</td>\n      <td>0</td>\n      <td>...</td>\n      <td>0</td>\n      <td>0</td>\n      <td>0</td>\n      <td>0</td>\n      <td>0</td>\n      <td>0</td>\n      <td>0</td>\n      <td>0</td>\n      <td>0</td>\n      <td>0</td>\n    </tr>\n  </tbody>\n</table>\n<p>10500 rows × 36 columns</p>\n</div>"
     },
     "metadata": {},
     "execution_count": 89
    }
   ],
   "source": [
    "cat_D"
   ]
  },
  {
   "cell_type": "code",
   "execution_count": null,
   "metadata": {},
   "outputs": [],
   "source": []
  }
 ]
}